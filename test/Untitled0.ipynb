{
 "metadata": {
  "name": "",
  "signature": "sha256:4dd00bfd1e923c13335c04c7dbd00e005dbb479118aa53ff85a32a0238e004a0"
 },
 "nbformat": 3,
 "nbformat_minor": 0,
 "worksheets": [
  {
   "cells": [
    {
     "cell_type": "code",
     "collapsed": false,
     "input": [
      "import csv\n",
      "import copy\n",
      "l_csv= []\n",
      "i=0\n",
      "c_csv=[]\n",
      "count= 0\n",
      "def readCSV():\n",
      "\tprint \"\\nReading the csv file**********************************\"\n",
      "\tglobal l_csv\n",
      "\twith open('dataset.csv', 'rb') as  csvfile:\n",
      "\t\t\tspamreader= csv.reader(csvfile, delimiter= ' ', quotechar= '|')\n",
      "\t\t\tfor row in spamreader:\n",
      "\t\t\t\t#c+= copy.copy([row])       \n",
      "\t\t\t\tl_csv+= [row]\n",
      "\tformatCSV()\n",
      "\n",
      "def formatCSV():\n",
      "\tglobal c_csv, l_csv\n",
      "\tc_csv= l_csv[0] \n",
      "\tc_csv= c_csv[0:27]\n",
      "\tl_csv[0]= c_csv\n",
      "\t#print len(l)\n",
      "\tprint \"\\nFinished reading and formatting CSV******************************\"\n",
      "\n",
      "def dispCSV():\n",
      "\tfor i in l_csv:\t\t\n",
      "\t\tprint i\n",
      "\t\t#print len(i)\n",
      "\t\t#a= raw_input()\n",
      "def checkker(s, tt):\n",
      "    print s[0] + s[1] +s[2] , tt\n",
      "    for i in range(0, len(s)):\n",
      "        if(i not in tt):\n",
      "            s[i]= '1'\t\t\n",
      "    t= range(0,27)\n",
      "    if(s[t[0]] == '1' and s[t[1]] == '1' and s[t[2]] == '1' and s[t[3]] == '1' and s[t[4]] == '1' and s[t[5]] == '1' and s[t[6]] == '1' and s[t[7]] == '1' and s[t[8]] == '1' and s[t[9]] == '1'  and s[t[10]] == '1' and s[t[11]] == '1'  and s[t[12]] == '1' and s[t[13]] == '1' and s[t[14]] == '1' and s[t[15]] == '1' and s[t[16]] == '1' and s[t[17]] == '1' and s[t[18]] == '1'and s[t[19]] == '1'and s[t[20]] == '1'and s[t[21]] == '1'and s[t[22]] == '1'and s[t[23]] == '1'and s[t[24]] == '1'and s[t[25]] == '1'and s[t[26]] == '1'):\n",
      "        return True\n",
      "    else:\n",
      "        return False\n",
      "\n",
      "def check(s, t):\n",
      "    j = 0;\n",
      "    \n",
      "    for i in t:\n",
      "        if ( int(s[i]) == 1):\n",
      "            \n",
      "            j = j+1 \n",
      "            if( j == len(t)):\n",
      "                print j, len(t)\n",
      "                return True\n",
      "            \n",
      "    else:\n",
      "        return False\n",
      "                \n",
      "def workForUnion(t):\n",
      "    global l_csv, count\n",
      "    count= 0\n",
      "    l= len(t)\n",
      "    l_csv= l_csv[1:]\n",
      "    for i in l_csv:\n",
      "        if(check(i,t)):\n",
      "            count = count +1\n",
      "    return float(count)\t\t\n",
      "\n",
      "#%matplotlib inline\t\t\t\n",
      "if __name__ == \"__main__\":\n",
      "\treadCSV()\n",
      "\t#dispCSV()\t\t\n",
      "\tprint workForUnion([2,6,8,9,10,18,19])"
     ],
     "language": "python",
     "metadata": {},
     "outputs": [
      {
       "output_type": "stream",
       "stream": "stdout",
       "text": [
        "\n",
        "Reading the csv file**********************************\n",
        "\n",
        "Finished reading and formatting CSV******************************\n",
        "0.0\n"
       ]
      }
     ],
     "prompt_number": 2
    },
    {
     "cell_type": "code",
     "collapsed": false,
     "input": [
      "\n",
      "l = ['C3', 'C7', 'C9', 'C10', 'C11', 'C19', 'C20']\n",
      "a =[]\n",
      "def rest(a, b):\n",
      "    print a, b\n",
      "    for i in a:\n",
      "        print i\n",
      "        b.remove(i)\n",
      "    print b , type(b)\n",
      "    return b\n",
      "\n",
      "    \n",
      "def combi(l):\n",
      "    for i in range(0, len(l)):            \n",
      "        for j in range(i+1, len(l)):\n",
      "            a = [[l[i]]+[l[j]]] + list(rest([l[i]]+[l[j]], l)) \n",
      "            print a \n",
      "            \n"
     ],
     "language": "python",
     "metadata": {},
     "outputs": [],
     "prompt_number": 35
    },
    {
     "cell_type": "code",
     "collapsed": false,
     "input": [
      "l = [1,2,3,4,5,6,7,8,9]\n",
      "a = [1,5,7,9]\n",
      "l = l+a\n",
      "print l\n",
      "for i in a:\n",
      "    l.remove(i)\n",
      "print l"
     ],
     "language": "python",
     "metadata": {},
     "outputs": [
      {
       "output_type": "stream",
       "stream": "stdout",
       "text": [
        "[1, 2, 3, 4, 5, 6, 7, 8, 9, 1, 5, 7, 9]\n",
        "[2, 3, 4, 6, 8, 1, 5, 7, 9]\n"
       ]
      }
     ],
     "prompt_number": 32
    },
    {
     "cell_type": "code",
     "collapsed": false,
     "input": [
      "import itertools\n",
      "lst = [3,7,9,10,11,19,20]\n",
      "combs = []\n",
      "\n",
      "for i in xrange(1, len(lst)):\n",
      "    els = [list(x) for x in itertools.combinations(lst, i)]\n",
      "    combs.extend(els)\n",
      "\n",
      "for i in combs:\n",
      "    #print i\n",
      "    pass\n",
      "    \n",
      "print len(combs)"
     ],
     "language": "python",
     "metadata": {},
     "outputs": [
      {
       "output_type": "stream",
       "stream": "stdout",
       "text": [
        "126\n"
       ]
      }
     ],
     "prompt_number": 39
    },
    {
     "cell_type": "code",
     "collapsed": false,
     "input": [
      "import itertools\n",
      "\n",
      "lst = [3,7,9,10,11,19,20]\n",
      "for i in range(0, len(lst)):\n",
      "    itertools.combinations(lst, 2)"
     ],
     "language": "python",
     "metadata": {},
     "outputs": [
      {
       "output_type": "stream",
       "stream": "stdout",
       "text": [
        "<itertools.combinations object at 0x7fbf2e684d60>\n"
       ]
      }
     ],
     "prompt_number": 15
    },
    {
     "cell_type": "code",
     "collapsed": false,
     "input": [
      "def permutations(iterable, r=None):\n",
      "    pool = tuple(iterable)\n",
      "    n = len(pool)\n",
      "    r = n if r is None else r\n",
      "    for indices in product(range(n), repeat=r):\n",
      "        if len(set(indices)) == r:\n",
      "            yield tuple(pool[i] for i in indices)\n",
      "\n",
      "\n",
      "for  i in  range(0, 4):\n",
      "    print permutations([3,7,9,10,11,19,20], i)"
     ],
     "language": "python",
     "metadata": {},
     "outputs": [
      {
       "output_type": "stream",
       "stream": "stdout",
       "text": [
        "<generator object permutations at 0x7fbf2e543050>\n",
        "<generator object permutations at 0x7fbf2e543050>\n",
        "<generator object permutations at 0x7fbf2e543050>\n",
        "<generator object permutations at 0x7fbf2e543050>\n"
       ]
      }
     ],
     "prompt_number": 23
    },
    {
     "cell_type": "code",
     "collapsed": false,
     "input": [
      "import itertools\n",
      "import copy\n",
      "\n",
      "l = [3,7,9]\n",
      "z= []\n",
      "\n",
      "def rest(a, b):\n",
      "    #print a, b\n",
      "    for i in a:\n",
      "        #print i\n",
      "        try:\n",
      "            b.remove(i)\n",
      "        except:\n",
      "            \"not in list...\"\n",
      "    #print b , type(b)\n",
      "    return b\n",
      "\n",
      "def genrateCombinations():\n",
      "    global l, z\n",
      "    j=0\n",
      "    for i in range(1, len(l)):\n",
      "        for x in itertools.combinations(l,i):\n",
      "            #print x\n",
      "            j = j+1\n",
      "            z.append(list(x)) \n",
      "    genXY()\n",
      "    \n",
      "        \n",
      "def genXY():\n",
      "    global l, z\n",
      "    j=0\n",
      "    for i in z:\n",
      "        i.sort()  \n",
      "    for i in range(0,len(z)):\n",
      "        z[i] = [z[i]] + [rest(z[i], copy.copy(l))]\n",
      "\n",
      "if __name__ == '__main__':\n",
      "    genrateCombinations()\n",
      "    print len(z)\n",
      "    for i in z:\n",
      "        print i"
     ],
     "language": "python",
     "metadata": {},
     "outputs": [
      {
       "output_type": "stream",
       "stream": "stdout",
       "text": [
        "6\n",
        "[[3], [7, 9]]\n",
        "[[7], [3, 9]]\n",
        "[[9], [3, 7]]\n",
        "[[3, 7], [9]]\n",
        "[[3, 9], [7]]\n",
        "[[7, 9], [3]]\n"
       ]
      }
     ],
     "prompt_number": 47
    },
    {
     "cell_type": "code",
     "collapsed": false,
     "input": [
      "l = [1,2,3,4,4]\n",
      "\n",
      "print l\n",
      "l = list(set(l))\n",
      "print l\n",
      "\n",
      "[1,2,3,4] is   l\n",
      "\n",
      "a = [5,4,3,2,1]\n",
      "a."
     ],
     "language": "python",
     "metadata": {},
     "outputs": [
      {
       "output_type": "stream",
       "stream": "stdout",
       "text": [
        "[1, 2, 3, 4, 4]\n",
        "[1, 2, 3, 4]\n"
       ]
      },
      {
       "metadata": {},
       "output_type": "pyout",
       "prompt_number": 26,
       "text": [
        "False"
       ]
      }
     ],
     "prompt_number": 26
    },
    {
     "cell_type": "code",
     "collapsed": false,
     "input": [
      "l = [[[1,2,3],[4,5]], [[6,7,],[8,9]], [[11,12,13],[14,15,16]]]\n",
      "\n",
      "'''\n",
      "for i in l:\n",
      "    for j in range(0, len(i[0])):\n",
      "        print l[0][1]\n",
      "'''\n",
      "ii, jj, kk = 0, 0, 0\n",
      "\n",
      "print l[0][0]+l[0][1]\n",
      "\n",
      "for i in l:\n",
      "    jj=0\n",
      "    for j in i:\n",
      "        kk=0\n",
      "        for k in j:\n",
      "            print l[ii][jj][kk]\n",
      "            kk = kk+1\n",
      "        jj = jj+1\n",
      "    ii=ii+1"
     ],
     "language": "python",
     "metadata": {},
     "outputs": [
      {
       "output_type": "stream",
       "stream": "stdout",
       "text": [
        "[1, 2, 3, 4, 5]\n",
        "1\n",
        "2\n",
        "3\n",
        "4\n",
        "5\n",
        "6\n",
        "7\n",
        "8\n",
        "9\n",
        "11\n",
        "12\n",
        "13\n",
        "14\n",
        "15\n",
        "16\n"
       ]
      }
     ],
     "prompt_number": 65
    },
    {
     "cell_type": "code",
     "collapsed": false,
     "input": [
      "l = [1,2,3,4,5,6]\n",
      "j= 0\n",
      "for i in l:\n",
      "    print i, j\n",
      "    j=j+1"
     ],
     "language": "python",
     "metadata": {},
     "outputs": [
      {
       "output_type": "stream",
       "stream": "stdout",
       "text": [
        "1 0\n",
        "2 1\n",
        "3 2\n",
        "4 3\n",
        "5 4\n",
        "6 5\n"
       ]
      }
     ],
     "prompt_number": 62
    }
   ],
   "metadata": {}
  }
 ]
}